{
 "cells": [
  {
   "cell_type": "markdown",
   "metadata": {},
   "source": [
    "# Module 9 Exercises\n",
    "\n",
    "In this exercise, you will **analyze networks and visualize the results**. \n",
    "\n",
    "\n",
    "Let's start with analyzing the **traffic between airports**."
   ]
  },
  {
   "cell_type": "code",
   "execution_count": null,
   "metadata": {
    "scrolled": true
   },
   "outputs": [],
   "source": [
    "import pandas as pd\n",
    "import numpy as np\n",
    "import networkx as nx\n",
    "\n",
    "from IPython.display import IFrame\n",
    "from pyvis import network as net\n",
    "from d3graph import d3graph\n",
    "import igraph as ig\n",
    "\n",
    "# flight destinations and counts \n",
    "flights = pd.read_csv(\"./data/flights.csv\")"
   ]
  },
  {
   "cell_type": "markdown",
   "metadata": {},
   "source": [
    "**Exercise 1:** **Create a data frame** that only has `airport1`, `airport2`, and the `cnt` attributes."
   ]
  },
  {
   "cell_type": "code",
   "execution_count": null,
   "metadata": {},
   "outputs": [],
   "source": [
    "# -------------------------------------------------------\n",
    "# Please write your codes in the cell and execute those.\n",
    "#"
   ]
  },
  {
   "cell_type": "markdown",
   "metadata": {},
   "source": [
    "**Exercise 2:** **Create a graph from this data frame**, use `directed=False` to make it an **undirected** graph with **Graph.DataFrame** of `igraph`. If you want to use **networkX**, please convert **iGraph** Graph to **networkX** Graph. **Hint**: Use  `to_networkx()` of `NetworkX`.  Please thoroughly read the `igraph` library to use `Graph.DataFrame` with appropriate arguments."
   ]
  },
  {
   "cell_type": "code",
   "execution_count": null,
   "metadata": {},
   "outputs": [],
   "source": [
    "# -------------------------------------------------------\n",
    "# Please write your codes in the cell and execute those.\n",
    "#"
   ]
  },
  {
   "cell_type": "markdown",
   "metadata": {},
   "source": [
    "**Exercise 3:** Plot the network with a **force-directed layout**. "
   ]
  },
  {
   "cell_type": "code",
   "execution_count": null,
   "metadata": {},
   "outputs": [],
   "source": [
    "# -------------------------------------------------------\n",
    "# Please write your codes in the cell and execute those.\n",
    "#"
   ]
  },
  {
   "cell_type": "markdown",
   "metadata": {},
   "source": [
    "Now, we will **reduce multiple edges** between vertices by adding all their attributes. There are multiple airlines operating between two airports, **we add their flight counts.**"
   ]
  },
  {
   "cell_type": "code",
   "execution_count": null,
   "metadata": {},
   "outputs": [],
   "source": [
    "# Use Graph.simplify in iGraph\n",
    "gs = ig.Graph.simplify(g, combine_edges=\"sum\")\n",
    "\n",
    "# Normalize\n",
    "gs.es['cnt'] = [cnt / max(gs.es['cnt']) for cnt in gs.es['cnt']]"
   ]
  },
  {
   "cell_type": "markdown",
   "metadata": {},
   "source": [
    "**Exercise 4:** Plot again, this time, **assign the edge weights to `edge.width` parameter.**"
   ]
  },
  {
   "cell_type": "code",
   "execution_count": null,
   "metadata": {},
   "outputs": [],
   "source": [
    "# -------------------------------------------------------\n",
    "# Please write your codes in the cell and execute those.\n",
    "#"
   ]
  },
  {
   "cell_type": "markdown",
   "metadata": {},
   "source": [
    "Now we can see the traffic weighted by the flight counts. Let's change the **size of the vertices by using the traffic**. \n",
    "\n",
    "\n",
    "We need to **sum up the weights of all the edges for each vertex**."
   ]
  },
  {
   "cell_type": "code",
   "execution_count": null,
   "metadata": {},
   "outputs": [],
   "source": [
    "# Summing up the edge weights of the adjacent edge for each vertex\n",
    "gs.vs['traffic'] = ig.Graph.strength(gs, mode='all', weights=gs.es['cnt'])\n",
    "\n",
    "# normalize\n",
    "gs.vs['traffic'] = [traffic / max(gs.vs['traffic']) for traffic in gs.vs['traffic']]"
   ]
  },
  {
   "cell_type": "markdown",
   "metadata": {},
   "source": [
    "**Exercise 5:** Plot again, this time, **assign the `V(gs)$traffic` to the `vertex.size`. Make sure to multiply it by a value to make the graph look nice.** "
   ]
  },
  {
   "cell_type": "code",
   "execution_count": null,
   "metadata": {},
   "outputs": [],
   "source": [
    "# -------------------------------------------------------\n",
    "# Please write your codes in the cell and execute those.\n",
    "#"
   ]
  },
  {
   "cell_type": "markdown",
   "metadata": {},
   "source": [
    "Now we can see that some airports are busier than others, but we don't know their **names**. Let's find out by **removing the vertex shape** and **leaving the vertex label** and use a **font size proportional to the traffic**.\n"
   ]
  },
  {
   "cell_type": "markdown",
   "metadata": {},
   "source": [
    "**Exercise 6:** Plot again, this time: `vertex.shape=\"none\"` and `vertex.label.cex` should be **proportional to traffic.**"
   ]
  },
  {
   "cell_type": "code",
   "execution_count": null,
   "metadata": {},
   "outputs": [],
   "source": [
    "# -------------------------------------------------------\n",
    "# Please write your codes in the cell and execute those.\n",
    "#"
   ]
  },
  {
   "cell_type": "markdown",
   "metadata": {},
   "source": [
    "Let's **get rid of vertices** that do not have much traffic."
   ]
  },
  {
   "cell_type": "code",
   "execution_count": null,
   "metadata": {},
   "outputs": [],
   "source": [
    "# find them \n",
    "dv = [i for i, traffic in enumerate(gs.vs['traffic']) if traffic < 0.3]\n",
    "\n",
    "#delete them \n",
    "gs = ig.Graph.delete_vertices(gs, gs.vs[dv])"
   ]
  },
  {
   "cell_type": "markdown",
   "metadata": {},
   "source": [
    "**Exercise 7:** Plot again, this time use a **vertex size and label font proportional to traffic** and make sure to make it look nice. "
   ]
  },
  {
   "cell_type": "code",
   "execution_count": null,
   "metadata": {},
   "outputs": [],
   "source": [
    "# -------------------------------------------------------\n",
    "# Please write your codes in the cell and execute those.\n",
    "#"
   ]
  },
  {
   "cell_type": "markdown",
   "metadata": {},
   "source": [
    "### Please save your notebook: File -> Save Notebook (Ctrl+S) \n",
    "\n",
    "#### **Use the file name format as follows:**\n",
    "\n",
    "m9_Exercise_R_(_Your #700 number including '700'_).ipynb, **e.g., m9_Exercise_R_700729831.ipynb**."
   ]
  }
 ],
 "metadata": {
  "kernelspec": {
   "display_name": "Python 3 (ipykernel)",
   "language": "python",
   "name": "python3"
  },
  "language_info": {
   "codemirror_mode": {
    "name": "ipython",
    "version": 3
   },
   "file_extension": ".py",
   "mimetype": "text/x-python",
   "name": "python",
   "nbconvert_exporter": "python",
   "pygments_lexer": "ipython3",
   "version": "3.11.8"
  }
 },
 "nbformat": 4,
 "nbformat_minor": 4
}
